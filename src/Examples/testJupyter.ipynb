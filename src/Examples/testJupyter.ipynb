{
 "metadata": {
  "language_info": {
   "codemirror_mode": {
    "name": "ipython",
    "version": 3
   },
   "file_extension": ".py",
   "mimetype": "text/x-python",
   "name": "julia",
   "nbconvert_exporter": "python",
   "pygments_lexer": "ipython3",
   "version": 3
  },
  "orig_nbformat": 4,
  "kernelspec": {
   "name": "julia-1.6",
   "display_name": "Julia 1.6.1",
   "language": "julia"
  }
 },
 "nbformat": 4,
 "nbformat_minor": 2,
 "cells": [
  {
   "cell_type": "code",
   "execution_count": 1,
   "metadata": {},
   "outputs": [],
   "source": [
    "using DataFrames"
   ]
  },
  {
   "cell_type": "code",
   "execution_count": 2,
   "metadata": {},
   "outputs": [
    {
     "output_type": "execute_result",
     "data": {
      "text/plain": [
       "2"
      ]
     },
     "metadata": {},
     "execution_count": 2
    }
   ],
   "source": [
    "1 + 1"
   ]
  },
  {
   "cell_type": "code",
   "execution_count": 7,
   "metadata": {},
   "outputs": [
    {
     "output_type": "execute_result",
     "data": {
      "text/plain": [
       "\u001b[1m10×3 DataFrame\u001b[0m\n",
       "\u001b[1m Row \u001b[0m│\u001b[1m id     \u001b[0m\u001b[1m b     \u001b[0m\u001b[1m c      \u001b[0m\n",
       "\u001b[1m     \u001b[0m│\u001b[90m String \u001b[0m\u001b[90m Int64 \u001b[0m\u001b[90m String \u001b[0m\n",
       "─────┼───────────────────────\n",
       "   1 │ a           2  one\n",
       "   2 │ b           5  two\n",
       "   3 │ a           7  three\n",
       "   4 │ c           8  four\n",
       "   5 │ c           3  five\n",
       "   6 │ a           9  six\n",
       "   7 │ c           1  seven\n",
       "   8 │ a          10  eight\n",
       "   9 │ a           4  nine\n",
       "  10 │ c           8  ten"
      ],
      "text/html": "<div class=\"data-frame\"><p>10 rows × 3 columns</p><table class=\"data-frame\"><thead><tr><th></th><th>id</th><th>b</th><th>c</th></tr><tr><th></th><th title=\"String\">String</th><th title=\"Int64\">Int64</th><th title=\"String\">String</th></tr></thead><tbody><tr><th>1</th><td>a</td><td>2</td><td>one</td></tr><tr><th>2</th><td>b</td><td>5</td><td>two</td></tr><tr><th>3</th><td>a</td><td>7</td><td>three</td></tr><tr><th>4</th><td>c</td><td>8</td><td>four</td></tr><tr><th>5</th><td>c</td><td>3</td><td>five</td></tr><tr><th>6</th><td>a</td><td>9</td><td>six</td></tr><tr><th>7</th><td>c</td><td>1</td><td>seven</td></tr><tr><th>8</th><td>a</td><td>10</td><td>eight</td></tr><tr><th>9</th><td>a</td><td>4</td><td>nine</td></tr><tr><th>10</th><td>c</td><td>8</td><td>ten</td></tr></tbody></table></div>",
      "text/latex": "\\begin{tabular}{r|ccc}\n\t& id & b & c\\\\\n\t\\hline\n\t& String & Int64 & String\\\\\n\t\\hline\n\t1 & a & 2 & one \\\\\n\t2 & b & 5 & two \\\\\n\t3 & a & 7 & three \\\\\n\t4 & c & 8 & four \\\\\n\t5 & c & 3 & five \\\\\n\t6 & a & 9 & six \\\\\n\t7 & c & 1 & seven \\\\\n\t8 & a & 10 & eight \\\\\n\t9 & a & 4 & nine \\\\\n\t10 & c & 8 & ten \\\\\n\\end{tabular}\n"
     },
     "metadata": {},
     "execution_count": 7
    }
   ],
   "source": [
    "x = DataFrame(id=[\"a\",\"b\",\"a\",\"c\",\"c\",\"a\",\"c\",\"a\",\"a\",\"c\"], b=[2,5,7,8,3,9,1,10,4,8], c=[\"one\",\"two\",\"three\",\"four\",\"five\",\"six\",\"seven\",\"eight\",\"nine\",\"ten\"])"
   ]
  },
  {
   "cell_type": "code",
   "execution_count": null,
   "metadata": {},
   "outputs": [],
   "source": []
  }
 ]
}